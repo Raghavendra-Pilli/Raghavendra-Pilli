{
 "cells": [
  {
   "cell_type": "code",
   "execution_count": 4,
   "id": "abfa6b01",
   "metadata": {},
   "outputs": [],
   "source": [
    "import pandas as pd\n",
    "import numpy as np\n",
    "import statsmodels.formula.api as smf\n",
    "\n",
    "import seaborn as sns\n",
    "from statsmodels.stats.outliers_influence import variance_inflation_factor\n",
    "from sklearn.model_selection import train_test_split\n"
   ]
  },
  {
   "cell_type": "code",
   "execution_count": 2,
   "id": "8d265a61",
   "metadata": {},
   "outputs": [
    {
     "name": "stdout",
     "output_type": "stream",
     "text": [
      "Collecting markupsafe==2.0.1\n",
      "  Downloading MarkupSafe-2.0.1-cp39-cp39-win_amd64.whl (14 kB)\n",
      "Installing collected packages: markupsafe\n",
      "  Attempting uninstall: markupsafe\n",
      "    Found existing installation: MarkupSafe 2.1.1\n",
      "    Uninstalling MarkupSafe-2.1.1:\n",
      "      Successfully uninstalled MarkupSafe-2.1.1\n",
      "Note: you may need to restart the kernel to use updated packages.\n"
     ]
    },
    {
     "name": "stderr",
     "output_type": "stream",
     "text": [
      "ERROR: Could not install packages due to an OSError: [WinError 5] Access is denied: 'C:\\\\Users\\\\91733\\\\anaconda3\\\\Lib\\\\site-packages\\\\~arkupsafe\\\\_speedups.cp39-win_amd64.pyd'\n",
      "Consider using the `--user` option or check the permissions.\n",
      "\n"
     ]
    }
   ],
   "source": [
    "pip install markupsafe==2.0.1"
   ]
  },
  {
   "cell_type": "code",
   "execution_count": 6,
   "id": "1c0ed710",
   "metadata": {},
   "outputs": [],
   "source": [
    "from matplotlib import pyplot as plt"
   ]
  },
  {
   "cell_type": "code",
   "execution_count": 7,
   "id": "17730ac9",
   "metadata": {},
   "outputs": [],
   "source": [
    "cs = pd.read_csv('Car_sales.csv')"
   ]
  },
  {
   "cell_type": "code",
   "execution_count": 8,
   "id": "ae1c6a49",
   "metadata": {},
   "outputs": [
    {
     "data": {
      "text/html": [
       "<div>\n",
       "<style scoped>\n",
       "    .dataframe tbody tr th:only-of-type {\n",
       "        vertical-align: middle;\n",
       "    }\n",
       "\n",
       "    .dataframe tbody tr th {\n",
       "        vertical-align: top;\n",
       "    }\n",
       "\n",
       "    .dataframe thead th {\n",
       "        text-align: right;\n",
       "    }\n",
       "</style>\n",
       "<table border=\"1\" class=\"dataframe\">\n",
       "  <thead>\n",
       "    <tr style=\"text-align: right;\">\n",
       "      <th></th>\n",
       "      <th>Manufacturer</th>\n",
       "      <th>Model</th>\n",
       "      <th>Sales_in_thousands</th>\n",
       "      <th>four_year_resale_value</th>\n",
       "      <th>Vehicle_type</th>\n",
       "      <th>Price_in_thousands</th>\n",
       "      <th>Engine_size</th>\n",
       "      <th>Horsepower</th>\n",
       "      <th>Wheelbase</th>\n",
       "      <th>Width</th>\n",
       "      <th>Length</th>\n",
       "      <th>Curb_weight</th>\n",
       "      <th>Fuel_capacity</th>\n",
       "      <th>Fuel_efficiency</th>\n",
       "      <th>Latest_Launch</th>\n",
       "      <th>Power_perf_factor</th>\n",
       "    </tr>\n",
       "  </thead>\n",
       "  <tbody>\n",
       "    <tr>\n",
       "      <th>0</th>\n",
       "      <td>Acura</td>\n",
       "      <td>Integra</td>\n",
       "      <td>16.919</td>\n",
       "      <td>16.360</td>\n",
       "      <td>Passenger</td>\n",
       "      <td>21.50</td>\n",
       "      <td>1.8</td>\n",
       "      <td>140.0</td>\n",
       "      <td>101.2</td>\n",
       "      <td>67.3</td>\n",
       "      <td>172.4</td>\n",
       "      <td>2.639</td>\n",
       "      <td>13.2</td>\n",
       "      <td>28.0</td>\n",
       "      <td>2/2/2012</td>\n",
       "      <td>58.280150</td>\n",
       "    </tr>\n",
       "    <tr>\n",
       "      <th>1</th>\n",
       "      <td>Acura</td>\n",
       "      <td>TL</td>\n",
       "      <td>39.384</td>\n",
       "      <td>19.875</td>\n",
       "      <td>Passenger</td>\n",
       "      <td>28.40</td>\n",
       "      <td>3.2</td>\n",
       "      <td>225.0</td>\n",
       "      <td>108.1</td>\n",
       "      <td>70.3</td>\n",
       "      <td>192.9</td>\n",
       "      <td>3.517</td>\n",
       "      <td>17.2</td>\n",
       "      <td>25.0</td>\n",
       "      <td>6/3/2011</td>\n",
       "      <td>91.370778</td>\n",
       "    </tr>\n",
       "    <tr>\n",
       "      <th>2</th>\n",
       "      <td>Acura</td>\n",
       "      <td>CL</td>\n",
       "      <td>14.114</td>\n",
       "      <td>18.225</td>\n",
       "      <td>Passenger</td>\n",
       "      <td>NaN</td>\n",
       "      <td>3.2</td>\n",
       "      <td>225.0</td>\n",
       "      <td>106.9</td>\n",
       "      <td>70.6</td>\n",
       "      <td>192.0</td>\n",
       "      <td>3.470</td>\n",
       "      <td>17.2</td>\n",
       "      <td>26.0</td>\n",
       "      <td>1/4/2012</td>\n",
       "      <td>NaN</td>\n",
       "    </tr>\n",
       "    <tr>\n",
       "      <th>3</th>\n",
       "      <td>Acura</td>\n",
       "      <td>RL</td>\n",
       "      <td>8.588</td>\n",
       "      <td>29.725</td>\n",
       "      <td>Passenger</td>\n",
       "      <td>42.00</td>\n",
       "      <td>3.5</td>\n",
       "      <td>210.0</td>\n",
       "      <td>114.6</td>\n",
       "      <td>71.4</td>\n",
       "      <td>196.6</td>\n",
       "      <td>3.850</td>\n",
       "      <td>18.0</td>\n",
       "      <td>22.0</td>\n",
       "      <td>3/10/2011</td>\n",
       "      <td>91.389779</td>\n",
       "    </tr>\n",
       "    <tr>\n",
       "      <th>4</th>\n",
       "      <td>Audi</td>\n",
       "      <td>A4</td>\n",
       "      <td>20.397</td>\n",
       "      <td>22.255</td>\n",
       "      <td>Passenger</td>\n",
       "      <td>23.99</td>\n",
       "      <td>1.8</td>\n",
       "      <td>150.0</td>\n",
       "      <td>102.6</td>\n",
       "      <td>68.2</td>\n",
       "      <td>178.0</td>\n",
       "      <td>2.998</td>\n",
       "      <td>16.4</td>\n",
       "      <td>27.0</td>\n",
       "      <td>10/8/2011</td>\n",
       "      <td>62.777639</td>\n",
       "    </tr>\n",
       "  </tbody>\n",
       "</table>\n",
       "</div>"
      ],
      "text/plain": [
       "  Manufacturer    Model  Sales_in_thousands  four_year_resale_value  \\\n",
       "0        Acura  Integra              16.919                  16.360   \n",
       "1        Acura       TL              39.384                  19.875   \n",
       "2        Acura       CL              14.114                  18.225   \n",
       "3        Acura       RL               8.588                  29.725   \n",
       "4         Audi       A4              20.397                  22.255   \n",
       "\n",
       "  Vehicle_type  Price_in_thousands  Engine_size  Horsepower  Wheelbase  Width  \\\n",
       "0    Passenger               21.50          1.8       140.0      101.2   67.3   \n",
       "1    Passenger               28.40          3.2       225.0      108.1   70.3   \n",
       "2    Passenger                 NaN          3.2       225.0      106.9   70.6   \n",
       "3    Passenger               42.00          3.5       210.0      114.6   71.4   \n",
       "4    Passenger               23.99          1.8       150.0      102.6   68.2   \n",
       "\n",
       "   Length  Curb_weight  Fuel_capacity  Fuel_efficiency Latest_Launch  \\\n",
       "0   172.4        2.639           13.2             28.0      2/2/2012   \n",
       "1   192.9        3.517           17.2             25.0      6/3/2011   \n",
       "2   192.0        3.470           17.2             26.0      1/4/2012   \n",
       "3   196.6        3.850           18.0             22.0     3/10/2011   \n",
       "4   178.0        2.998           16.4             27.0     10/8/2011   \n",
       "\n",
       "   Power_perf_factor  \n",
       "0          58.280150  \n",
       "1          91.370778  \n",
       "2                NaN  \n",
       "3          91.389779  \n",
       "4          62.777639  "
      ]
     },
     "execution_count": 8,
     "metadata": {},
     "output_type": "execute_result"
    }
   ],
   "source": [
    "cs.head()"
   ]
  },
  {
   "cell_type": "code",
   "execution_count": 9,
   "id": "e000fae6",
   "metadata": {},
   "outputs": [
    {
     "data": {
      "text/plain": [
       "(157, 16)"
      ]
     },
     "execution_count": 9,
     "metadata": {},
     "output_type": "execute_result"
    }
   ],
   "source": [
    "cs.shape"
   ]
  },
  {
   "cell_type": "code",
   "execution_count": 10,
   "id": "0bbf0402",
   "metadata": {},
   "outputs": [
    {
     "name": "stdout",
     "output_type": "stream",
     "text": [
      "<class 'pandas.core.frame.DataFrame'>\n",
      "RangeIndex: 157 entries, 0 to 156\n",
      "Data columns (total 16 columns):\n",
      " #   Column                  Non-Null Count  Dtype  \n",
      "---  ------                  --------------  -----  \n",
      " 0   Manufacturer            157 non-null    object \n",
      " 1   Model                   157 non-null    object \n",
      " 2   Sales_in_thousands      157 non-null    float64\n",
      " 3   four_year_resale_value  121 non-null    float64\n",
      " 4   Vehicle_type            157 non-null    object \n",
      " 5   Price_in_thousands      155 non-null    float64\n",
      " 6   Engine_size             156 non-null    float64\n",
      " 7   Horsepower              156 non-null    float64\n",
      " 8   Wheelbase               156 non-null    float64\n",
      " 9   Width                   156 non-null    float64\n",
      " 10  Length                  156 non-null    float64\n",
      " 11  Curb_weight             155 non-null    float64\n",
      " 12  Fuel_capacity           156 non-null    float64\n",
      " 13  Fuel_efficiency         154 non-null    float64\n",
      " 14  Latest_Launch           157 non-null    object \n",
      " 15  Power_perf_factor       155 non-null    float64\n",
      "dtypes: float64(12), object(4)\n",
      "memory usage: 19.8+ KB\n"
     ]
    }
   ],
   "source": [
    "cs.info()"
   ]
  },
  {
   "cell_type": "code",
   "execution_count": 11,
   "id": "af65b8d1",
   "metadata": {},
   "outputs": [
    {
     "data": {
      "text/plain": [
       "Index(['Manufacturer', 'Model', 'Sales_in_thousands', 'four_year_resale_value',\n",
       "       'Vehicle_type', 'Price_in_thousands', 'Engine_size', 'Horsepower',\n",
       "       'Wheelbase', 'Width', 'Length', 'Curb_weight', 'Fuel_capacity',\n",
       "       'Fuel_efficiency', 'Latest_Launch', 'Power_perf_factor'],\n",
       "      dtype='object')"
      ]
     },
     "execution_count": 11,
     "metadata": {},
     "output_type": "execute_result"
    }
   ],
   "source": [
    "cs.columns"
   ]
  },
  {
   "cell_type": "code",
   "execution_count": 12,
   "id": "cc22fafc",
   "metadata": {},
   "outputs": [
    {
     "data": {
      "text/plain": [
       "Dodge         11\n",
       "Ford          11\n",
       "Toyota         9\n",
       "Chevrolet      9\n",
       "Mercedes-B     9\n",
       "Mitsubishi     7\n",
       "Nissan         7\n",
       "Chrysler       7\n",
       "Volvo          6\n",
       "Oldsmobile     6\n",
       "Lexus          6\n",
       "Mercury        6\n",
       "Pontiac        6\n",
       "Volkswagen     6\n",
       "Saturn         5\n",
       "Cadillac       5\n",
       "Honda          5\n",
       "Plymouth       4\n",
       "Acura          4\n",
       "Buick          4\n",
       "Audi           3\n",
       "Jeep           3\n",
       "Porsche        3\n",
       "Hyundai        3\n",
       "BMW            3\n",
       "Lincoln        3\n",
       "Saab           2\n",
       "Subaru         2\n",
       "Jaguar         1\n",
       "Infiniti       1\n",
       "Name: Manufacturer, dtype: int64"
      ]
     },
     "execution_count": 12,
     "metadata": {},
     "output_type": "execute_result"
    }
   ],
   "source": [
    "cs.Manufacturer.value_counts()"
   ]
  },
  {
   "cell_type": "code",
   "execution_count": 13,
   "id": "59f96475",
   "metadata": {},
   "outputs": [
    {
     "data": {
      "text/plain": [
       "Passenger    116\n",
       "Car           41\n",
       "Name: Vehicle_type, dtype: int64"
      ]
     },
     "execution_count": 13,
     "metadata": {},
     "output_type": "execute_result"
    }
   ],
   "source": [
    "cs.Vehicle_type.value_counts()"
   ]
  },
  {
   "cell_type": "code",
   "execution_count": 28,
   "id": "8bb046c5",
   "metadata": {},
   "outputs": [
    {
     "name": "stdout",
     "output_type": "stream",
     "text": [
      "Requirement already satisfied: markupsafe in c:\\users\\91733\\anaconda3\\lib\\site-packages (2.0.1)\n"
     ]
    }
   ],
   "source": [
    "!pip install markupsafe"
   ]
  },
  {
   "cell_type": "code",
   "execution_count": 14,
   "id": "f90f92ba",
   "metadata": {},
   "outputs": [
    {
     "ename": "NameError",
     "evalue": "name 'pf' is not defined",
     "output_type": "error",
     "traceback": [
      "\u001b[1;31m---------------------------------------------------------------------------\u001b[0m",
      "\u001b[1;31mNameError\u001b[0m                                 Traceback (most recent call last)",
      "Input \u001b[1;32mIn [14]\u001b[0m, in \u001b[0;36m<cell line: 1>\u001b[1;34m()\u001b[0m\n\u001b[1;32m----> 1\u001b[0m report \u001b[38;5;241m=\u001b[39m \u001b[43mpf\u001b[49m\u001b[38;5;241m.\u001b[39mProfileReport(cs)\n\u001b[0;32m      2\u001b[0m report\u001b[38;5;241m.\u001b[39mto_file(\u001b[38;5;124m'\u001b[39m\u001b[38;5;124mprofile_report.html\u001b[39m\u001b[38;5;124m'\u001b[39m)\n",
      "\u001b[1;31mNameError\u001b[0m: name 'pf' is not defined"
     ]
    }
   ],
   "source": [
    "report = pf.ProfileReport(cs)\n",
    "report.to_file('profile_report.html')"
   ]
  },
  {
   "cell_type": "code",
   "execution_count": 16,
   "id": "e42e5b59",
   "metadata": {},
   "outputs": [
    {
     "ename": "KeyError",
     "evalue": "\"['Manufacturer', 'Model'] not found in axis\"",
     "output_type": "error",
     "traceback": [
      "\u001b[1;31m---------------------------------------------------------------------------\u001b[0m",
      "\u001b[1;31mKeyError\u001b[0m                                  Traceback (most recent call last)",
      "Input \u001b[1;32mIn [16]\u001b[0m, in \u001b[0;36m<cell line: 1>\u001b[1;34m()\u001b[0m\n\u001b[1;32m----> 1\u001b[0m \u001b[43mcs\u001b[49m\u001b[38;5;241;43m.\u001b[39;49m\u001b[43mdrop\u001b[49m\u001b[43m(\u001b[49m\u001b[43mcolumns\u001b[49m\u001b[43m \u001b[49m\u001b[38;5;241;43m=\u001b[39;49m\u001b[43m \u001b[49m\u001b[43m[\u001b[49m\u001b[38;5;124;43m'\u001b[39;49m\u001b[38;5;124;43mManufacturer\u001b[39;49m\u001b[38;5;124;43m'\u001b[39;49m\u001b[43m,\u001b[49m\u001b[38;5;124;43m'\u001b[39;49m\u001b[38;5;124;43mModel\u001b[39;49m\u001b[38;5;124;43m'\u001b[39;49m\u001b[43m]\u001b[49m\u001b[43m,\u001b[49m\u001b[43maxis\u001b[49m\u001b[38;5;241;43m=\u001b[39;49m\u001b[38;5;241;43m1\u001b[39;49m\u001b[43m,\u001b[49m\u001b[43m \u001b[49m\u001b[43minplace\u001b[49m\u001b[38;5;241;43m=\u001b[39;49m\u001b[38;5;28;43;01mTrue\u001b[39;49;00m\u001b[43m)\u001b[49m\n",
      "File \u001b[1;32m~\\anaconda3\\lib\\site-packages\\pandas\\util\\_decorators.py:311\u001b[0m, in \u001b[0;36mdeprecate_nonkeyword_arguments.<locals>.decorate.<locals>.wrapper\u001b[1;34m(*args, **kwargs)\u001b[0m\n\u001b[0;32m    305\u001b[0m \u001b[38;5;28;01mif\u001b[39;00m \u001b[38;5;28mlen\u001b[39m(args) \u001b[38;5;241m>\u001b[39m num_allow_args:\n\u001b[0;32m    306\u001b[0m     warnings\u001b[38;5;241m.\u001b[39mwarn(\n\u001b[0;32m    307\u001b[0m         msg\u001b[38;5;241m.\u001b[39mformat(arguments\u001b[38;5;241m=\u001b[39marguments),\n\u001b[0;32m    308\u001b[0m         \u001b[38;5;167;01mFutureWarning\u001b[39;00m,\n\u001b[0;32m    309\u001b[0m         stacklevel\u001b[38;5;241m=\u001b[39mstacklevel,\n\u001b[0;32m    310\u001b[0m     )\n\u001b[1;32m--> 311\u001b[0m \u001b[38;5;28;01mreturn\u001b[39;00m func(\u001b[38;5;241m*\u001b[39margs, \u001b[38;5;241m*\u001b[39m\u001b[38;5;241m*\u001b[39mkwargs)\n",
      "File \u001b[1;32m~\\anaconda3\\lib\\site-packages\\pandas\\core\\frame.py:4954\u001b[0m, in \u001b[0;36mDataFrame.drop\u001b[1;34m(self, labels, axis, index, columns, level, inplace, errors)\u001b[0m\n\u001b[0;32m   4806\u001b[0m \u001b[38;5;129m@deprecate_nonkeyword_arguments\u001b[39m(version\u001b[38;5;241m=\u001b[39m\u001b[38;5;28;01mNone\u001b[39;00m, allowed_args\u001b[38;5;241m=\u001b[39m[\u001b[38;5;124m\"\u001b[39m\u001b[38;5;124mself\u001b[39m\u001b[38;5;124m\"\u001b[39m, \u001b[38;5;124m\"\u001b[39m\u001b[38;5;124mlabels\u001b[39m\u001b[38;5;124m\"\u001b[39m])\n\u001b[0;32m   4807\u001b[0m \u001b[38;5;28;01mdef\u001b[39;00m \u001b[38;5;21mdrop\u001b[39m(\n\u001b[0;32m   4808\u001b[0m     \u001b[38;5;28mself\u001b[39m,\n\u001b[1;32m   (...)\u001b[0m\n\u001b[0;32m   4815\u001b[0m     errors: \u001b[38;5;28mstr\u001b[39m \u001b[38;5;241m=\u001b[39m \u001b[38;5;124m\"\u001b[39m\u001b[38;5;124mraise\u001b[39m\u001b[38;5;124m\"\u001b[39m,\n\u001b[0;32m   4816\u001b[0m ):\n\u001b[0;32m   4817\u001b[0m     \u001b[38;5;124;03m\"\"\"\u001b[39;00m\n\u001b[0;32m   4818\u001b[0m \u001b[38;5;124;03m    Drop specified labels from rows or columns.\u001b[39;00m\n\u001b[0;32m   4819\u001b[0m \n\u001b[1;32m   (...)\u001b[0m\n\u001b[0;32m   4952\u001b[0m \u001b[38;5;124;03m            weight  1.0     0.8\u001b[39;00m\n\u001b[0;32m   4953\u001b[0m \u001b[38;5;124;03m    \"\"\"\u001b[39;00m\n\u001b[1;32m-> 4954\u001b[0m     \u001b[38;5;28;01mreturn\u001b[39;00m \u001b[38;5;28;43msuper\u001b[39;49m\u001b[43m(\u001b[49m\u001b[43m)\u001b[49m\u001b[38;5;241;43m.\u001b[39;49m\u001b[43mdrop\u001b[49m\u001b[43m(\u001b[49m\n\u001b[0;32m   4955\u001b[0m \u001b[43m        \u001b[49m\u001b[43mlabels\u001b[49m\u001b[38;5;241;43m=\u001b[39;49m\u001b[43mlabels\u001b[49m\u001b[43m,\u001b[49m\n\u001b[0;32m   4956\u001b[0m \u001b[43m        \u001b[49m\u001b[43maxis\u001b[49m\u001b[38;5;241;43m=\u001b[39;49m\u001b[43maxis\u001b[49m\u001b[43m,\u001b[49m\n\u001b[0;32m   4957\u001b[0m \u001b[43m        \u001b[49m\u001b[43mindex\u001b[49m\u001b[38;5;241;43m=\u001b[39;49m\u001b[43mindex\u001b[49m\u001b[43m,\u001b[49m\n\u001b[0;32m   4958\u001b[0m \u001b[43m        \u001b[49m\u001b[43mcolumns\u001b[49m\u001b[38;5;241;43m=\u001b[39;49m\u001b[43mcolumns\u001b[49m\u001b[43m,\u001b[49m\n\u001b[0;32m   4959\u001b[0m \u001b[43m        \u001b[49m\u001b[43mlevel\u001b[49m\u001b[38;5;241;43m=\u001b[39;49m\u001b[43mlevel\u001b[49m\u001b[43m,\u001b[49m\n\u001b[0;32m   4960\u001b[0m \u001b[43m        \u001b[49m\u001b[43minplace\u001b[49m\u001b[38;5;241;43m=\u001b[39;49m\u001b[43minplace\u001b[49m\u001b[43m,\u001b[49m\n\u001b[0;32m   4961\u001b[0m \u001b[43m        \u001b[49m\u001b[43merrors\u001b[49m\u001b[38;5;241;43m=\u001b[39;49m\u001b[43merrors\u001b[49m\u001b[43m,\u001b[49m\n\u001b[0;32m   4962\u001b[0m \u001b[43m    \u001b[49m\u001b[43m)\u001b[49m\n",
      "File \u001b[1;32m~\\anaconda3\\lib\\site-packages\\pandas\\core\\generic.py:4267\u001b[0m, in \u001b[0;36mNDFrame.drop\u001b[1;34m(self, labels, axis, index, columns, level, inplace, errors)\u001b[0m\n\u001b[0;32m   4265\u001b[0m \u001b[38;5;28;01mfor\u001b[39;00m axis, labels \u001b[38;5;129;01min\u001b[39;00m axes\u001b[38;5;241m.\u001b[39mitems():\n\u001b[0;32m   4266\u001b[0m     \u001b[38;5;28;01mif\u001b[39;00m labels \u001b[38;5;129;01mis\u001b[39;00m \u001b[38;5;129;01mnot\u001b[39;00m \u001b[38;5;28;01mNone\u001b[39;00m:\n\u001b[1;32m-> 4267\u001b[0m         obj \u001b[38;5;241m=\u001b[39m \u001b[43mobj\u001b[49m\u001b[38;5;241;43m.\u001b[39;49m\u001b[43m_drop_axis\u001b[49m\u001b[43m(\u001b[49m\u001b[43mlabels\u001b[49m\u001b[43m,\u001b[49m\u001b[43m \u001b[49m\u001b[43maxis\u001b[49m\u001b[43m,\u001b[49m\u001b[43m \u001b[49m\u001b[43mlevel\u001b[49m\u001b[38;5;241;43m=\u001b[39;49m\u001b[43mlevel\u001b[49m\u001b[43m,\u001b[49m\u001b[43m \u001b[49m\u001b[43merrors\u001b[49m\u001b[38;5;241;43m=\u001b[39;49m\u001b[43merrors\u001b[49m\u001b[43m)\u001b[49m\n\u001b[0;32m   4269\u001b[0m \u001b[38;5;28;01mif\u001b[39;00m inplace:\n\u001b[0;32m   4270\u001b[0m     \u001b[38;5;28mself\u001b[39m\u001b[38;5;241m.\u001b[39m_update_inplace(obj)\n",
      "File \u001b[1;32m~\\anaconda3\\lib\\site-packages\\pandas\\core\\generic.py:4311\u001b[0m, in \u001b[0;36mNDFrame._drop_axis\u001b[1;34m(self, labels, axis, level, errors, consolidate, only_slice)\u001b[0m\n\u001b[0;32m   4309\u001b[0m         new_axis \u001b[38;5;241m=\u001b[39m axis\u001b[38;5;241m.\u001b[39mdrop(labels, level\u001b[38;5;241m=\u001b[39mlevel, errors\u001b[38;5;241m=\u001b[39merrors)\n\u001b[0;32m   4310\u001b[0m     \u001b[38;5;28;01melse\u001b[39;00m:\n\u001b[1;32m-> 4311\u001b[0m         new_axis \u001b[38;5;241m=\u001b[39m \u001b[43maxis\u001b[49m\u001b[38;5;241;43m.\u001b[39;49m\u001b[43mdrop\u001b[49m\u001b[43m(\u001b[49m\u001b[43mlabels\u001b[49m\u001b[43m,\u001b[49m\u001b[43m \u001b[49m\u001b[43merrors\u001b[49m\u001b[38;5;241;43m=\u001b[39;49m\u001b[43merrors\u001b[49m\u001b[43m)\u001b[49m\n\u001b[0;32m   4312\u001b[0m     indexer \u001b[38;5;241m=\u001b[39m axis\u001b[38;5;241m.\u001b[39mget_indexer(new_axis)\n\u001b[0;32m   4314\u001b[0m \u001b[38;5;66;03m# Case for non-unique axis\u001b[39;00m\n\u001b[0;32m   4315\u001b[0m \u001b[38;5;28;01melse\u001b[39;00m:\n",
      "File \u001b[1;32m~\\anaconda3\\lib\\site-packages\\pandas\\core\\indexes\\base.py:6644\u001b[0m, in \u001b[0;36mIndex.drop\u001b[1;34m(self, labels, errors)\u001b[0m\n\u001b[0;32m   6642\u001b[0m \u001b[38;5;28;01mif\u001b[39;00m mask\u001b[38;5;241m.\u001b[39many():\n\u001b[0;32m   6643\u001b[0m     \u001b[38;5;28;01mif\u001b[39;00m errors \u001b[38;5;241m!=\u001b[39m \u001b[38;5;124m\"\u001b[39m\u001b[38;5;124mignore\u001b[39m\u001b[38;5;124m\"\u001b[39m:\n\u001b[1;32m-> 6644\u001b[0m         \u001b[38;5;28;01mraise\u001b[39;00m \u001b[38;5;167;01mKeyError\u001b[39;00m(\u001b[38;5;124mf\u001b[39m\u001b[38;5;124m\"\u001b[39m\u001b[38;5;132;01m{\u001b[39;00m\u001b[38;5;28mlist\u001b[39m(labels[mask])\u001b[38;5;132;01m}\u001b[39;00m\u001b[38;5;124m not found in axis\u001b[39m\u001b[38;5;124m\"\u001b[39m)\n\u001b[0;32m   6645\u001b[0m     indexer \u001b[38;5;241m=\u001b[39m indexer[\u001b[38;5;241m~\u001b[39mmask]\n\u001b[0;32m   6646\u001b[0m \u001b[38;5;28;01mreturn\u001b[39;00m \u001b[38;5;28mself\u001b[39m\u001b[38;5;241m.\u001b[39mdelete(indexer)\n",
      "\u001b[1;31mKeyError\u001b[0m: \"['Manufacturer', 'Model'] not found in axis\""
     ]
    }
   ],
   "source": [
    "cs.drop(columns = ['Manufacturer','Model'],axis=1, inplace=True)"
   ]
  },
  {
   "cell_type": "code",
   "execution_count": 17,
   "id": "f3126675",
   "metadata": {},
   "outputs": [],
   "source": [
    "cs.drop(columns = ['Latest_Launch'],axis=1, inplace=True)"
   ]
  },
  {
   "cell_type": "code",
   "execution_count": 18,
   "id": "21304d63",
   "metadata": {},
   "outputs": [],
   "source": [
    "def missing_treat(x):\n",
    "    if ((x.dtype == 'float64') | (x.dtype == 'int64')):\n",
    "        x = x.fillna(x.median())\n",
    "    elif (x.dtype == 'object'):\n",
    "        x = x.fillna(x.mode()[0])\n",
    "    else:\n",
    "        x\n",
    "    return x"
   ]
  },
  {
   "cell_type": "code",
   "execution_count": 19,
   "id": "46350d2e",
   "metadata": {},
   "outputs": [],
   "source": [
    "cs = cs.apply(missing_treat)"
   ]
  },
  {
   "cell_type": "code",
   "execution_count": 20,
   "id": "c61ef510",
   "metadata": {},
   "outputs": [],
   "source": [
    "def outlier_treat(x):\n",
    "    if ((x.dtype == 'float64') | (x.dtype == 'int64')):\n",
    "        x = x.clip(lower = x.quantile(0.01), upper = x.quantile(0.99))\n",
    "    else:\n",
    "        x\n",
    "    return x"
   ]
  },
  {
   "cell_type": "code",
   "execution_count": 24,
   "id": "d0022e38",
   "metadata": {},
   "outputs": [],
   "source": [
    "cs = cs.apply(outlier_treat)"
   ]
  },
  {
   "cell_type": "code",
   "execution_count": 26,
   "id": "ed61e773",
   "metadata": {},
   "outputs": [
    {
     "data": {
      "text/plain": [
       "Passenger    116\n",
       "Car           41\n",
       "Name: Vehicle_type, dtype: int64"
      ]
     },
     "execution_count": 26,
     "metadata": {},
     "output_type": "execute_result"
    }
   ],
   "source": [
    "cs.Vehicle_type.value_counts()"
   ]
  },
  {
   "cell_type": "code",
   "execution_count": 30,
   "id": "45dd61bb",
   "metadata": {},
   "outputs": [],
   "source": [
    "df1 = pd.get_dummies(cs, columns = ['Vehicle_type'],drop_first= True)"
   ]
  },
  {
   "cell_type": "code",
   "execution_count": 31,
   "id": "07408579",
   "metadata": {},
   "outputs": [
    {
     "data": {
      "text/html": [
       "<div>\n",
       "<style scoped>\n",
       "    .dataframe tbody tr th:only-of-type {\n",
       "        vertical-align: middle;\n",
       "    }\n",
       "\n",
       "    .dataframe tbody tr th {\n",
       "        vertical-align: top;\n",
       "    }\n",
       "\n",
       "    .dataframe thead th {\n",
       "        text-align: right;\n",
       "    }\n",
       "</style>\n",
       "<table border=\"1\" class=\"dataframe\">\n",
       "  <thead>\n",
       "    <tr style=\"text-align: right;\">\n",
       "      <th></th>\n",
       "      <th>Sales_in_thousands</th>\n",
       "      <th>four_year_resale_value</th>\n",
       "      <th>Price_in_thousands</th>\n",
       "      <th>Engine_size</th>\n",
       "      <th>Horsepower</th>\n",
       "      <th>Wheelbase</th>\n",
       "      <th>Width</th>\n",
       "      <th>Length</th>\n",
       "      <th>Curb_weight</th>\n",
       "      <th>Fuel_capacity</th>\n",
       "      <th>Fuel_efficiency</th>\n",
       "      <th>Power_perf_factor</th>\n",
       "      <th>Vehicle_type_Passenger</th>\n",
       "    </tr>\n",
       "  </thead>\n",
       "  <tbody>\n",
       "    <tr>\n",
       "      <th>0</th>\n",
       "      <td>16.919</td>\n",
       "      <td>16.360</td>\n",
       "      <td>21.500</td>\n",
       "      <td>1.8</td>\n",
       "      <td>140.0</td>\n",
       "      <td>101.2</td>\n",
       "      <td>67.3</td>\n",
       "      <td>172.4</td>\n",
       "      <td>2.639</td>\n",
       "      <td>13.2</td>\n",
       "      <td>28.0</td>\n",
       "      <td>58.280150</td>\n",
       "      <td>1</td>\n",
       "    </tr>\n",
       "    <tr>\n",
       "      <th>1</th>\n",
       "      <td>39.384</td>\n",
       "      <td>19.875</td>\n",
       "      <td>28.400</td>\n",
       "      <td>3.2</td>\n",
       "      <td>225.0</td>\n",
       "      <td>108.1</td>\n",
       "      <td>70.3</td>\n",
       "      <td>192.9</td>\n",
       "      <td>3.517</td>\n",
       "      <td>17.2</td>\n",
       "      <td>25.0</td>\n",
       "      <td>91.370778</td>\n",
       "      <td>1</td>\n",
       "    </tr>\n",
       "    <tr>\n",
       "      <th>2</th>\n",
       "      <td>14.114</td>\n",
       "      <td>18.225</td>\n",
       "      <td>22.799</td>\n",
       "      <td>3.2</td>\n",
       "      <td>225.0</td>\n",
       "      <td>106.9</td>\n",
       "      <td>70.6</td>\n",
       "      <td>192.0</td>\n",
       "      <td>3.470</td>\n",
       "      <td>17.2</td>\n",
       "      <td>26.0</td>\n",
       "      <td>72.030917</td>\n",
       "      <td>1</td>\n",
       "    </tr>\n",
       "    <tr>\n",
       "      <th>3</th>\n",
       "      <td>8.588</td>\n",
       "      <td>29.725</td>\n",
       "      <td>42.000</td>\n",
       "      <td>3.5</td>\n",
       "      <td>210.0</td>\n",
       "      <td>114.6</td>\n",
       "      <td>71.4</td>\n",
       "      <td>196.6</td>\n",
       "      <td>3.850</td>\n",
       "      <td>18.0</td>\n",
       "      <td>22.0</td>\n",
       "      <td>91.389779</td>\n",
       "      <td>1</td>\n",
       "    </tr>\n",
       "    <tr>\n",
       "      <th>4</th>\n",
       "      <td>20.397</td>\n",
       "      <td>22.255</td>\n",
       "      <td>23.990</td>\n",
       "      <td>1.8</td>\n",
       "      <td>150.0</td>\n",
       "      <td>102.6</td>\n",
       "      <td>68.2</td>\n",
       "      <td>178.0</td>\n",
       "      <td>2.998</td>\n",
       "      <td>16.4</td>\n",
       "      <td>27.0</td>\n",
       "      <td>62.777639</td>\n",
       "      <td>1</td>\n",
       "    </tr>\n",
       "    <tr>\n",
       "      <th>...</th>\n",
       "      <td>...</td>\n",
       "      <td>...</td>\n",
       "      <td>...</td>\n",
       "      <td>...</td>\n",
       "      <td>...</td>\n",
       "      <td>...</td>\n",
       "      <td>...</td>\n",
       "      <td>...</td>\n",
       "      <td>...</td>\n",
       "      <td>...</td>\n",
       "      <td>...</td>\n",
       "      <td>...</td>\n",
       "      <td>...</td>\n",
       "    </tr>\n",
       "    <tr>\n",
       "      <th>152</th>\n",
       "      <td>3.545</td>\n",
       "      <td>14.180</td>\n",
       "      <td>24.400</td>\n",
       "      <td>1.9</td>\n",
       "      <td>160.0</td>\n",
       "      <td>100.5</td>\n",
       "      <td>67.6</td>\n",
       "      <td>176.6</td>\n",
       "      <td>3.042</td>\n",
       "      <td>15.8</td>\n",
       "      <td>25.0</td>\n",
       "      <td>66.498812</td>\n",
       "      <td>1</td>\n",
       "    </tr>\n",
       "    <tr>\n",
       "      <th>153</th>\n",
       "      <td>15.245</td>\n",
       "      <td>14.180</td>\n",
       "      <td>27.500</td>\n",
       "      <td>2.4</td>\n",
       "      <td>168.0</td>\n",
       "      <td>104.9</td>\n",
       "      <td>69.3</td>\n",
       "      <td>185.9</td>\n",
       "      <td>3.208</td>\n",
       "      <td>17.9</td>\n",
       "      <td>25.0</td>\n",
       "      <td>70.654495</td>\n",
       "      <td>1</td>\n",
       "    </tr>\n",
       "    <tr>\n",
       "      <th>154</th>\n",
       "      <td>17.531</td>\n",
       "      <td>14.180</td>\n",
       "      <td>28.800</td>\n",
       "      <td>2.4</td>\n",
       "      <td>168.0</td>\n",
       "      <td>104.9</td>\n",
       "      <td>69.3</td>\n",
       "      <td>186.2</td>\n",
       "      <td>3.259</td>\n",
       "      <td>17.9</td>\n",
       "      <td>25.0</td>\n",
       "      <td>71.155978</td>\n",
       "      <td>1</td>\n",
       "    </tr>\n",
       "    <tr>\n",
       "      <th>155</th>\n",
       "      <td>3.493</td>\n",
       "      <td>14.180</td>\n",
       "      <td>45.500</td>\n",
       "      <td>2.3</td>\n",
       "      <td>236.0</td>\n",
       "      <td>104.9</td>\n",
       "      <td>71.5</td>\n",
       "      <td>185.7</td>\n",
       "      <td>3.601</td>\n",
       "      <td>18.5</td>\n",
       "      <td>23.0</td>\n",
       "      <td>101.623357</td>\n",
       "      <td>1</td>\n",
       "    </tr>\n",
       "    <tr>\n",
       "      <th>156</th>\n",
       "      <td>18.969</td>\n",
       "      <td>14.180</td>\n",
       "      <td>36.000</td>\n",
       "      <td>2.9</td>\n",
       "      <td>201.0</td>\n",
       "      <td>109.9</td>\n",
       "      <td>72.1</td>\n",
       "      <td>189.8</td>\n",
       "      <td>3.600</td>\n",
       "      <td>21.1</td>\n",
       "      <td>24.0</td>\n",
       "      <td>85.735655</td>\n",
       "      <td>1</td>\n",
       "    </tr>\n",
       "  </tbody>\n",
       "</table>\n",
       "<p>157 rows × 13 columns</p>\n",
       "</div>"
      ],
      "text/plain": [
       "     Sales_in_thousands  four_year_resale_value  Price_in_thousands  \\\n",
       "0                16.919                  16.360              21.500   \n",
       "1                39.384                  19.875              28.400   \n",
       "2                14.114                  18.225              22.799   \n",
       "3                 8.588                  29.725              42.000   \n",
       "4                20.397                  22.255              23.990   \n",
       "..                  ...                     ...                 ...   \n",
       "152               3.545                  14.180              24.400   \n",
       "153              15.245                  14.180              27.500   \n",
       "154              17.531                  14.180              28.800   \n",
       "155               3.493                  14.180              45.500   \n",
       "156              18.969                  14.180              36.000   \n",
       "\n",
       "     Engine_size  Horsepower  Wheelbase  Width  Length  Curb_weight  \\\n",
       "0            1.8       140.0      101.2   67.3   172.4        2.639   \n",
       "1            3.2       225.0      108.1   70.3   192.9        3.517   \n",
       "2            3.2       225.0      106.9   70.6   192.0        3.470   \n",
       "3            3.5       210.0      114.6   71.4   196.6        3.850   \n",
       "4            1.8       150.0      102.6   68.2   178.0        2.998   \n",
       "..           ...         ...        ...    ...     ...          ...   \n",
       "152          1.9       160.0      100.5   67.6   176.6        3.042   \n",
       "153          2.4       168.0      104.9   69.3   185.9        3.208   \n",
       "154          2.4       168.0      104.9   69.3   186.2        3.259   \n",
       "155          2.3       236.0      104.9   71.5   185.7        3.601   \n",
       "156          2.9       201.0      109.9   72.1   189.8        3.600   \n",
       "\n",
       "     Fuel_capacity  Fuel_efficiency  Power_perf_factor  Vehicle_type_Passenger  \n",
       "0             13.2             28.0          58.280150                       1  \n",
       "1             17.2             25.0          91.370778                       1  \n",
       "2             17.2             26.0          72.030917                       1  \n",
       "3             18.0             22.0          91.389779                       1  \n",
       "4             16.4             27.0          62.777639                       1  \n",
       "..             ...              ...                ...                     ...  \n",
       "152           15.8             25.0          66.498812                       1  \n",
       "153           17.9             25.0          70.654495                       1  \n",
       "154           17.9             25.0          71.155978                       1  \n",
       "155           18.5             23.0         101.623357                       1  \n",
       "156           21.1             24.0          85.735655                       1  \n",
       "\n",
       "[157 rows x 13 columns]"
      ]
     },
     "execution_count": 31,
     "metadata": {},
     "output_type": "execute_result"
    }
   ],
   "source": [
    "df1"
   ]
  },
  {
   "cell_type": "code",
   "execution_count": 32,
   "id": "dfbe25d0",
   "metadata": {},
   "outputs": [
    {
     "data": {
      "text/plain": [
       "Sales_in_thousands        1.124826\n",
       "four_year_resale_value    0.575344\n",
       "Price_in_thousands        0.509564\n",
       "Engine_size               0.320857\n",
       "Horsepower                0.282466\n",
       "Wheelbase                 0.068058\n",
       "Width                     0.047422\n",
       "Length                    0.069220\n",
       "Curb_weight               0.182801\n",
       "Fuel_capacity             0.211078\n",
       "Fuel_efficiency           0.166435\n",
       "Power_perf_factor         0.308328\n",
       "Vehicle_type_Passenger    0.596418\n",
       "dtype: float64"
      ]
     },
     "execution_count": 32,
     "metadata": {},
     "output_type": "execute_result"
    }
   ],
   "source": [
    "df1.apply(lambda x: x.std()/x.mean())"
   ]
  },
  {
   "cell_type": "code",
   "execution_count": 33,
   "id": "55d9cf20",
   "metadata": {},
   "outputs": [
    {
     "data": {
      "text/plain": [
       "<AxesSubplot:ylabel='Frequency'>"
      ]
     },
     "execution_count": 33,
     "metadata": {},
     "output_type": "execute_result"
    },
    {
     "data": {
      "image/png": "[encoded data removed]",
      "text/plain": [
       "<Figure size 432x288 with 1 Axes>"
      ]
     },
     "metadata": {
      "needs_background": "light"
     },
     "output_type": "display_data"
    }
   ],
   "source": [
    "import matplotlib.pyplot as plt\n",
    "%matplotlib inline\n",
    "df1.Sales_in_thousands.plot(kind='hist', bins=20)"
   ]
  },
  {
   "cell_type": "code",
   "execution_count": 34,
   "id": "566d1220",
   "metadata": {},
   "outputs": [],
   "source": [
    "import seaborn as sns"
   ]
  },
  {
   "cell_type": "code",
   "execution_count": 35,
   "id": "fe27ff65",
   "metadata": {},
   "outputs": [
    {
     "name": "stderr",
     "output_type": "stream",
     "text": [
      "C:\\Users\\91733\\anaconda3\\lib\\site-packages\\seaborn\\distributions.py:2619: FutureWarning: `distplot` is a deprecated function and will be removed in a future version. Please adapt your code to use either `displot` (a figure-level function with similar flexibility) or `histplot` (an axes-level function for histograms).\n",
      "  warnings.warn(msg, FutureWarning)\n"
     ]
    },
    {
     "data": {
      "text/plain": [
       "<AxesSubplot:xlabel='Sales_in_thousands', ylabel='Density'>"
      ]
     },
     "execution_count": 35,
     "metadata": {},
     "output_type": "execute_result"
    },
    {
     "data": {
      "image/png": "[encoded data removed]",
      "text/plain": [
       "<Figure size 432x288 with 1 Axes>"
      ]
     },
     "metadata": {
      "needs_background": "light"
     },
     "output_type": "display_data"
    }
   ],
   "source": [
    "sns.distplot(df1.Sales_in_thousands)"
   ]
  },
  {
   "cell_type": "code",
   "execution_count": 36,
   "id": "5f390f06",
   "metadata": {},
   "outputs": [
    {
     "name": "stderr",
     "output_type": "stream",
     "text": [
      "C:\\Users\\91733\\anaconda3\\lib\\site-packages\\seaborn\\distributions.py:2619: FutureWarning: `distplot` is a deprecated function and will be removed in a future version. Please adapt your code to use either `displot` (a figure-level function with similar flexibility) or `histplot` (an axes-level function for histograms).\n",
      "  warnings.warn(msg, FutureWarning)\n"
     ]
    },
    {
     "data": {
      "text/plain": [
       "<AxesSubplot:xlabel='Sales_in_thousands', ylabel='Density'>"
      ]
     },
     "execution_count": 36,
     "metadata": {},
     "output_type": "execute_result"
    },
    {
     "data": {
      "image/png": "[encoded data removed]",
      "text/plain": [
       "<Figure size 432x288 with 1 Axes>"
      ]
     },
     "metadata": {
      "needs_background": "light"
     },
     "output_type": "display_data"
    }
   ],
   "source": [
    "sns.distplot(np.log(df1.Sales_in_thousands))"
   ]
  },
  {
   "cell_type": "code",
   "execution_count": 37,
   "id": "820cabb4",
   "metadata": {},
   "outputs": [],
   "source": [
    "df1['ln_Sales_in_thousands'] =np.log(df1.Sales_in_thousands)"
   ]
  },
  {
   "cell_type": "code",
   "execution_count": 38,
   "id": "7a689565",
   "metadata": {},
   "outputs": [],
   "source": [
    "corr = df1.corrwith(df1.ln_Sales_in_thousands)"
   ]
  },
  {
   "cell_type": "code",
   "execution_count": 39,
   "id": "fb195172",
   "metadata": {},
   "outputs": [
    {
     "data": {
      "text/plain": [
       "Sales_in_thousands        0.800740\n",
       "four_year_resale_value   -0.446747\n",
       "Price_in_thousands       -0.578149\n",
       "Engine_size              -0.121511\n",
       "Horsepower               -0.400655\n",
       "Wheelbase                 0.266461\n",
       "Width                     0.037459\n",
       "Length                    0.205235\n",
       "Curb_weight              -0.052293\n",
       "Fuel_capacity            -0.020449\n",
       "Fuel_efficiency           0.136004\n",
       "Power_perf_factor        -0.447719\n",
       "Vehicle_type_Passenger   -0.272476\n",
       "ln_Sales_in_thousands     1.000000\n",
       "dtype: float64"
      ]
     },
     "execution_count": 39,
     "metadata": {},
     "output_type": "execute_result"
    }
   ],
   "source": [
    "corr"
   ]
  },
  {
   "cell_type": "code",
   "execution_count": 40,
   "id": "1cfe9afe",
   "metadata": {},
   "outputs": [],
   "source": [
    "corr.to_csv('corr.csv')"
   ]
  },
  {
   "cell_type": "code",
   "execution_count": 64,
   "id": "35383a43",
   "metadata": {},
   "outputs": [],
   "source": [
    "var_corr = [\n",
    "'four_year_resale_value',\n",
    "'Engine_size',\n",
    "'Horsepower',\n",
    "'Wheelbase',\n",
    "'Width',\n",
    "'Length',\n",
    "'Curb_weight',\n",
    "'Fuel_capacity',\n",
    "'Fuel_efficiency',\n",
    "'Power_perf_factor',\n",
    "'Vehicle_type_Passenger',\n",
    "]"
   ]
  },
  {
   "cell_type": "code",
   "execution_count": 65,
   "id": "6dd1818c",
   "metadata": {},
   "outputs": [],
   "source": [
    "from sklearn.feature_selection import f_regression, RFE, SelectKBest   #F-Regression, RFE, SelectKBest"
   ]
  },
  {
   "cell_type": "code",
   "execution_count": 66,
   "id": "c4f7372e",
   "metadata": {},
   "outputs": [
    {
     "data": {
      "text/html": [
       "<div>\n",
       "<style scoped>\n",
       "    .dataframe tbody tr th:only-of-type {\n",
       "        vertical-align: middle;\n",
       "    }\n",
       "\n",
       "    .dataframe tbody tr th {\n",
       "        vertical-align: top;\n",
       "    }\n",
       "\n",
       "    .dataframe thead th {\n",
       "        text-align: right;\n",
       "    }\n",
       "</style>\n",
       "<table border=\"1\" class=\"dataframe\">\n",
       "  <thead>\n",
       "    <tr style=\"text-align: right;\">\n",
       "      <th></th>\n",
       "      <th>Sales_in_thousands</th>\n",
       "      <th>four_year_resale_value</th>\n",
       "      <th>Price_in_thousands</th>\n",
       "      <th>Engine_size</th>\n",
       "      <th>Horsepower</th>\n",
       "      <th>Wheelbase</th>\n",
       "      <th>Width</th>\n",
       "      <th>Length</th>\n",
       "      <th>Curb_weight</th>\n",
       "      <th>Fuel_capacity</th>\n",
       "      <th>Fuel_efficiency</th>\n",
       "      <th>Power_perf_factor</th>\n",
       "      <th>Vehicle_type_Passenger</th>\n",
       "      <th>ln_Sales_in_thousands</th>\n",
       "    </tr>\n",
       "  </thead>\n",
       "  <tbody>\n",
       "    <tr>\n",
       "      <th>0</th>\n",
       "      <td>16.919</td>\n",
       "      <td>16.360</td>\n",
       "      <td>21.500</td>\n",
       "      <td>1.8</td>\n",
       "      <td>140.0</td>\n",
       "      <td>101.2</td>\n",
       "      <td>67.3</td>\n",
       "      <td>172.4</td>\n",
       "      <td>2.639</td>\n",
       "      <td>13.2</td>\n",
       "      <td>28.0</td>\n",
       "      <td>58.280150</td>\n",
       "      <td>1</td>\n",
       "      <td>2.828437</td>\n",
       "    </tr>\n",
       "    <tr>\n",
       "      <th>1</th>\n",
       "      <td>39.384</td>\n",
       "      <td>19.875</td>\n",
       "      <td>28.400</td>\n",
       "      <td>3.2</td>\n",
       "      <td>225.0</td>\n",
       "      <td>108.1</td>\n",
       "      <td>70.3</td>\n",
       "      <td>192.9</td>\n",
       "      <td>3.517</td>\n",
       "      <td>17.2</td>\n",
       "      <td>25.0</td>\n",
       "      <td>91.370778</td>\n",
       "      <td>1</td>\n",
       "      <td>3.673360</td>\n",
       "    </tr>\n",
       "    <tr>\n",
       "      <th>2</th>\n",
       "      <td>14.114</td>\n",
       "      <td>18.225</td>\n",
       "      <td>22.799</td>\n",
       "      <td>3.2</td>\n",
       "      <td>225.0</td>\n",
       "      <td>106.9</td>\n",
       "      <td>70.6</td>\n",
       "      <td>192.0</td>\n",
       "      <td>3.470</td>\n",
       "      <td>17.2</td>\n",
       "      <td>26.0</td>\n",
       "      <td>72.030917</td>\n",
       "      <td>1</td>\n",
       "      <td>2.647167</td>\n",
       "    </tr>\n",
       "    <tr>\n",
       "      <th>3</th>\n",
       "      <td>8.588</td>\n",
       "      <td>29.725</td>\n",
       "      <td>42.000</td>\n",
       "      <td>3.5</td>\n",
       "      <td>210.0</td>\n",
       "      <td>114.6</td>\n",
       "      <td>71.4</td>\n",
       "      <td>196.6</td>\n",
       "      <td>3.850</td>\n",
       "      <td>18.0</td>\n",
       "      <td>22.0</td>\n",
       "      <td>91.389779</td>\n",
       "      <td>1</td>\n",
       "      <td>2.150366</td>\n",
       "    </tr>\n",
       "    <tr>\n",
       "      <th>4</th>\n",
       "      <td>20.397</td>\n",
       "      <td>22.255</td>\n",
       "      <td>23.990</td>\n",
       "      <td>1.8</td>\n",
       "      <td>150.0</td>\n",
       "      <td>102.6</td>\n",
       "      <td>68.2</td>\n",
       "      <td>178.0</td>\n",
       "      <td>2.998</td>\n",
       "      <td>16.4</td>\n",
       "      <td>27.0</td>\n",
       "      <td>62.777639</td>\n",
       "      <td>1</td>\n",
       "      <td>3.015388</td>\n",
       "    </tr>\n",
       "  </tbody>\n",
       "</table>\n",
       "</div>"
      ],
      "text/plain": [
       "   Sales_in_thousands  four_year_resale_value  Price_in_thousands  \\\n",
       "0              16.919                  16.360              21.500   \n",
       "1              39.384                  19.875              28.400   \n",
       "2              14.114                  18.225              22.799   \n",
       "3               8.588                  29.725              42.000   \n",
       "4              20.397                  22.255              23.990   \n",
       "\n",
       "   Engine_size  Horsepower  Wheelbase  Width  Length  Curb_weight  \\\n",
       "0          1.8       140.0      101.2   67.3   172.4        2.639   \n",
       "1          3.2       225.0      108.1   70.3   192.9        3.517   \n",
       "2          3.2       225.0      106.9   70.6   192.0        3.470   \n",
       "3          3.5       210.0      114.6   71.4   196.6        3.850   \n",
       "4          1.8       150.0      102.6   68.2   178.0        2.998   \n",
       "\n",
       "   Fuel_capacity  Fuel_efficiency  Power_perf_factor  Vehicle_type_Passenger  \\\n",
       "0           13.2             28.0          58.280150                       1   \n",
       "1           17.2             25.0          91.370778                       1   \n",
       "2           17.2             26.0          72.030917                       1   \n",
       "3           18.0             22.0          91.389779                       1   \n",
       "4           16.4             27.0          62.777639                       1   \n",
       "\n",
       "   ln_Sales_in_thousands  \n",
       "0               2.828437  \n",
       "1               3.673360  \n",
       "2               2.647167  \n",
       "3               2.150366  \n",
       "4               3.015388  "
      ]
     },
     "execution_count": 66,
     "metadata": {},
     "output_type": "execute_result"
    }
   ],
   "source": [
    "df1.head()"
   ]
  },
  {
   "cell_type": "code",
   "execution_count": 67,
   "id": "cf7ad3f6",
   "metadata": {},
   "outputs": [],
   "source": [
    "X = df1[df1.columns.difference(['ln_Sales_in_thousands', 'Sales_in_thousands'])]"
   ]
  },
  {
   "cell_type": "code",
   "execution_count": 68,
   "id": "ce59cee6",
   "metadata": {},
   "outputs": [
    {
     "data": {
      "text/plain": [
       "Index(['Curb_weight', 'Engine_size', 'Fuel_capacity', 'Fuel_efficiency',\n",
       "       'Horsepower', 'Length', 'Power_perf_factor', 'Price_in_thousands',\n",
       "       'Vehicle_type_Passenger', 'Wheelbase', 'Width',\n",
       "       'four_year_resale_value'],\n",
       "      dtype='object')"
      ]
     },
     "execution_count": 68,
     "metadata": {},
     "output_type": "execute_result"
    }
   ],
   "source": [
    "X.columns"
   ]
  },
  {
   "cell_type": "code",
   "execution_count": 69,
   "id": "516a495e",
   "metadata": {},
   "outputs": [],
   "source": [
    "y = df1.ln_Sales_in_thousands"
   ]
  },
  {
   "cell_type": "code",
   "execution_count": 70,
   "id": "93082c32",
   "metadata": {},
   "outputs": [],
   "source": [
    "F_values, p_values = f_regression(X, y )"
   ]
  },
  {
   "cell_type": "code",
   "execution_count": 71,
   "id": "1f72bfb0",
   "metadata": {},
   "outputs": [],
   "source": [
    "f_reg_results = pd.concat([pd.Series(X.columns), pd.Series(F_values), pd.Series(p_values)], axis=1)\n",
    "f_reg_results.columns = ['Feature', 'F_value', 'P_Value']"
   ]
  },
  {
   "cell_type": "code",
   "execution_count": 72,
   "id": "a1326378",
   "metadata": {},
   "outputs": [],
   "source": [
    "f_reg_results.sort_values(by='F_value',ascending = False,inplace = True)"
   ]
  },
  {
   "cell_type": "code",
   "execution_count": 73,
   "id": "9d0a43c8",
   "metadata": {},
   "outputs": [
    {
     "data": {
      "text/html": [
       "<div>\n",
       "<style scoped>\n",
       "    .dataframe tbody tr th:only-of-type {\n",
       "        vertical-align: middle;\n",
       "    }\n",
       "\n",
       "    .dataframe tbody tr th {\n",
       "        vertical-align: top;\n",
       "    }\n",
       "\n",
       "    .dataframe thead th {\n",
       "        text-align: right;\n",
       "    }\n",
       "</style>\n",
       "<table border=\"1\" class=\"dataframe\">\n",
       "  <thead>\n",
       "    <tr style=\"text-align: right;\">\n",
       "      <th></th>\n",
       "      <th>Feature</th>\n",
       "      <th>F_value</th>\n",
       "      <th>P_Value</th>\n",
       "    </tr>\n",
       "  </thead>\n",
       "  <tbody>\n",
       "    <tr>\n",
       "      <th>7</th>\n",
       "      <td>Price_in_thousands</td>\n",
       "      <td>77.822245</td>\n",
       "      <td>2.213079e-15</td>\n",
       "    </tr>\n",
       "    <tr>\n",
       "      <th>6</th>\n",
       "      <td>Power_perf_factor</td>\n",
       "      <td>38.859694</td>\n",
       "      <td>4.121695e-09</td>\n",
       "    </tr>\n",
       "    <tr>\n",
       "      <th>11</th>\n",
       "      <td>four_year_resale_value</td>\n",
       "      <td>38.648956</td>\n",
       "      <td>4.493399e-09</td>\n",
       "    </tr>\n",
       "    <tr>\n",
       "      <th>4</th>\n",
       "      <td>Horsepower</td>\n",
       "      <td>29.639108</td>\n",
       "      <td>1.997506e-07</td>\n",
       "    </tr>\n",
       "    <tr>\n",
       "      <th>8</th>\n",
       "      <td>Vehicle_type_Passenger</td>\n",
       "      <td>12.430568</td>\n",
       "      <td>5.556427e-04</td>\n",
       "    </tr>\n",
       "    <tr>\n",
       "      <th>9</th>\n",
       "      <td>Wheelbase</td>\n",
       "      <td>11.846315</td>\n",
       "      <td>7.428300e-04</td>\n",
       "    </tr>\n",
       "    <tr>\n",
       "      <th>5</th>\n",
       "      <td>Length</td>\n",
       "      <td>6.815897</td>\n",
       "      <td>9.921784e-03</td>\n",
       "    </tr>\n",
       "    <tr>\n",
       "      <th>3</th>\n",
       "      <td>Fuel_efficiency</td>\n",
       "      <td>2.921081</td>\n",
       "      <td>8.943070e-02</td>\n",
       "    </tr>\n",
       "    <tr>\n",
       "      <th>1</th>\n",
       "      <td>Engine_size</td>\n",
       "      <td>2.322859</td>\n",
       "      <td>1.295233e-01</td>\n",
       "    </tr>\n",
       "    <tr>\n",
       "      <th>0</th>\n",
       "      <td>Curb_weight</td>\n",
       "      <td>0.425017</td>\n",
       "      <td>5.154097e-01</td>\n",
       "    </tr>\n",
       "    <tr>\n",
       "      <th>10</th>\n",
       "      <td>Width</td>\n",
       "      <td>0.217799</td>\n",
       "      <td>6.413770e-01</td>\n",
       "    </tr>\n",
       "    <tr>\n",
       "      <th>2</th>\n",
       "      <td>Fuel_capacity</td>\n",
       "      <td>0.064845</td>\n",
       "      <td>7.993332e-01</td>\n",
       "    </tr>\n",
       "  </tbody>\n",
       "</table>\n",
       "</div>"
      ],
      "text/plain": [
       "                   Feature    F_value       P_Value\n",
       "7       Price_in_thousands  77.822245  2.213079e-15\n",
       "6        Power_perf_factor  38.859694  4.121695e-09\n",
       "11  four_year_resale_value  38.648956  4.493399e-09\n",
       "4               Horsepower  29.639108  1.997506e-07\n",
       "8   Vehicle_type_Passenger  12.430568  5.556427e-04\n",
       "9                Wheelbase  11.846315  7.428300e-04\n",
       "5                   Length   6.815897  9.921784e-03\n",
       "3          Fuel_efficiency   2.921081  8.943070e-02\n",
       "1              Engine_size   2.322859  1.295233e-01\n",
       "0              Curb_weight   0.425017  5.154097e-01\n",
       "10                   Width   0.217799  6.413770e-01\n",
       "2            Fuel_capacity   0.064845  7.993332e-01"
      ]
     },
     "execution_count": 73,
     "metadata": {},
     "output_type": "execute_result"
    }
   ],
   "source": [
    "f_reg_results"
   ]
  },
  {
   "cell_type": "code",
   "execution_count": 74,
   "id": "b2b7815f",
   "metadata": {},
   "outputs": [],
   "source": [
    "var_f_reg = f_reg_results[f_reg_results.P_Value<0.01].Feature.values"
   ]
  },
  {
   "cell_type": "code",
   "execution_count": 75,
   "id": "676be0e0",
   "metadata": {},
   "outputs": [
    {
     "data": {
      "text/plain": [
       "array(['Price_in_thousands', 'Power_perf_factor',\n",
       "       'four_year_resale_value', 'Horsepower', 'Vehicle_type_Passenger',\n",
       "       'Wheelbase', 'Length'], dtype=object)"
      ]
     },
     "execution_count": 75,
     "metadata": {},
     "output_type": "execute_result"
    }
   ],
   "source": [
    "var_f_reg"
   ]
  },
  {
   "cell_type": "code",
   "execution_count": 76,
   "id": "12f3a72e",
   "metadata": {},
   "outputs": [],
   "source": [
    "from sklearn.linear_model import LinearRegression\n",
    "from sklearn.ensemble import RandomForestRegressor"
   ]
  },
  {
   "cell_type": "code",
   "execution_count": 77,
   "id": "b4b79af7",
   "metadata": {},
   "outputs": [],
   "source": [
    "# RFE - Recursive Feature Elimination\n",
    "RFE_Model = RFE(estimator = RandomForestRegressor(), n_features_to_select=10).fit(X, y)"
   ]
  },
  {
   "cell_type": "code",
   "execution_count": 78,
   "id": "c749779a",
   "metadata": {},
   "outputs": [
    {
     "data": {
      "text/plain": [
       "array([ True,  True,  True, False,  True,  True,  True,  True, False,\n",
       "        True,  True,  True])"
      ]
     },
     "execution_count": 78,
     "metadata": {},
     "output_type": "execute_result"
    }
   ],
   "source": [
    "RFE_Model.get_support()"
   ]
  },
  {
   "cell_type": "code",
   "execution_count": 79,
   "id": "c265e20b",
   "metadata": {},
   "outputs": [],
   "source": [
    "var_rfe = X.columns[RFE_Model.get_support()]"
   ]
  },
  {
   "cell_type": "code",
   "execution_count": 80,
   "id": "7f0d5a22",
   "metadata": {},
   "outputs": [
    {
     "data": {
      "text/plain": [
       "Index(['Curb_weight', 'Engine_size', 'Fuel_capacity', 'Horsepower', 'Length',\n",
       "       'Power_perf_factor', 'Price_in_thousands', 'Wheelbase', 'Width',\n",
       "       'four_year_resale_value'],\n",
       "      dtype='object')"
      ]
     },
     "execution_count": 80,
     "metadata": {},
     "output_type": "execute_result"
    }
   ],
   "source": [
    "var_rfe"
   ]
  },
  {
   "cell_type": "code",
   "execution_count": 81,
   "id": "85ae5705",
   "metadata": {},
   "outputs": [],
   "source": [
    "from sklearn.feature_selection import SelectKBest, f_oneway #SelectKBest"
   ]
  },
  {
   "cell_type": "code",
   "execution_count": 82,
   "id": "73dcb236",
   "metadata": {},
   "outputs": [],
   "source": [
    "SKB = SelectKBest(f_oneway, k=10).fit(X, y )\n",
    "\n",
    "SKB.get_support()\n",
    "vars_SKB = list(X.columns[SKB.get_support()])"
   ]
  },
  {
   "cell_type": "code",
   "execution_count": 83,
   "id": "e4cd0144",
   "metadata": {},
   "outputs": [
    {
     "data": {
      "text/plain": [
       "['Fuel_capacity',\n",
       " 'Fuel_efficiency',\n",
       " 'Horsepower',\n",
       " 'Length',\n",
       " 'Power_perf_factor',\n",
       " 'Price_in_thousands',\n",
       " 'Vehicle_type_Passenger',\n",
       " 'Wheelbase',\n",
       " 'Width',\n",
       " 'four_year_resale_value']"
      ]
     },
     "execution_count": 83,
     "metadata": {},
     "output_type": "execute_result"
    }
   ],
   "source": [
    "vars_SKB"
   ]
  },
  {
   "cell_type": "code",
   "execution_count": 84,
   "id": "9d598c4e",
   "metadata": {},
   "outputs": [],
   "source": [
    "final_list = list(set(var_corr + list(var_f_reg) + list(var_rfe) +list(vars_SKB)))"
   ]
  },
  {
   "cell_type": "code",
   "execution_count": 85,
   "id": "7e2abe43",
   "metadata": {},
   "outputs": [
    {
     "data": {
      "text/plain": [
       "['Engine_size',\n",
       " 'Horsepower',\n",
       " 'Width',\n",
       " 'Vehicle_type_Passenger',\n",
       " 'Curb_weight',\n",
       " 'Fuel_capacity',\n",
       " 'Power_perf_factor',\n",
       " 'Length',\n",
       " 'Wheelbase',\n",
       " 'four_year_resale_value',\n",
       " 'Fuel_efficiency',\n",
       " 'Price_in_thousands']"
      ]
     },
     "execution_count": 85,
     "metadata": {},
     "output_type": "execute_result"
    }
   ],
   "source": [
    "final_list"
   ]
  },
  {
   "cell_type": "code",
   "execution_count": 86,
   "id": "6f6558bf",
   "metadata": {},
   "outputs": [],
   "source": [
    "#Module related to VIF \n",
    "from statsmodels.stats.outliers_influence import variance_inflation_factor"
   ]
  },
  {
   "cell_type": "code",
   "execution_count": 133,
   "id": "14f00ca4",
   "metadata": {},
   "outputs": [],
   "source": [
    "X_final = X[final_list].drop(columns=['Power_perf_factor','Length','four_year_resale_value','Curb_weight','Price_in_thousands','Width','Fuel_capacity'], axis=1)"
   ]
  },
  {
   "cell_type": "code",
   "execution_count": 134,
   "id": "29d76501",
   "metadata": {},
   "outputs": [
    {
     "data": {
      "text/plain": [
       "5"
      ]
     },
     "execution_count": 134,
     "metadata": {},
     "output_type": "execute_result"
    }
   ],
   "source": [
    "X_final.shape[1]"
   ]
  },
  {
   "cell_type": "code",
   "execution_count": 135,
   "id": "2cf9bb35",
   "metadata": {},
   "outputs": [],
   "source": [
    "vif = pd.DataFrame()\n",
    "vif[\"VIF\"] = [variance_inflation_factor(X_final.values, i) for i in range(0, X_final.shape[1])]\n",
    "vif[\"features\"] = X_final.columns"
   ]
  },
  {
   "cell_type": "code",
   "execution_count": 136,
   "id": "11f092e9",
   "metadata": {},
   "outputs": [
    {
     "data": {
      "text/html": [
       "<div>\n",
       "<style scoped>\n",
       "    .dataframe tbody tr th:only-of-type {\n",
       "        vertical-align: middle;\n",
       "    }\n",
       "\n",
       "    .dataframe tbody tr th {\n",
       "        vertical-align: top;\n",
       "    }\n",
       "\n",
       "    .dataframe thead th {\n",
       "        text-align: right;\n",
       "    }\n",
       "</style>\n",
       "<table border=\"1\" class=\"dataframe\">\n",
       "  <thead>\n",
       "    <tr style=\"text-align: right;\">\n",
       "      <th></th>\n",
       "      <th>VIF</th>\n",
       "      <th>features</th>\n",
       "    </tr>\n",
       "  </thead>\n",
       "  <tbody>\n",
       "    <tr>\n",
       "      <th>3</th>\n",
       "      <td>145.926760</td>\n",
       "      <td>Wheelbase</td>\n",
       "    </tr>\n",
       "    <tr>\n",
       "      <th>4</th>\n",
       "      <td>84.853272</td>\n",
       "      <td>Fuel_efficiency</td>\n",
       "    </tr>\n",
       "    <tr>\n",
       "      <th>0</th>\n",
       "      <td>51.306242</td>\n",
       "      <td>Engine_size</td>\n",
       "    </tr>\n",
       "    <tr>\n",
       "      <th>1</th>\n",
       "      <td>48.085344</td>\n",
       "      <td>Horsepower</td>\n",
       "    </tr>\n",
       "    <tr>\n",
       "      <th>2</th>\n",
       "      <td>8.396856</td>\n",
       "      <td>Vehicle_type_Passenger</td>\n",
       "    </tr>\n",
       "  </tbody>\n",
       "</table>\n",
       "</div>"
      ],
      "text/plain": [
       "          VIF                features\n",
       "3  145.926760               Wheelbase\n",
       "4   84.853272         Fuel_efficiency\n",
       "0   51.306242             Engine_size\n",
       "1   48.085344              Horsepower\n",
       "2    8.396856  Vehicle_type_Passenger"
      ]
     },
     "execution_count": 136,
     "metadata": {},
     "output_type": "execute_result"
    }
   ],
   "source": [
    "vif.sort_values(by='VIF', ascending=False)"
   ]
  },
  {
   "cell_type": "code",
   "execution_count": 91,
   "id": "8f0d21f3",
   "metadata": {},
   "outputs": [],
   "source": [
    "df_final = pd.concat([X_final, y], axis=1)"
   ]
  },
  {
   "cell_type": "code",
   "execution_count": 92,
   "id": "9132893f",
   "metadata": {},
   "outputs": [],
   "source": [
    "from sklearn.model_selection import train_test_split"
   ]
  },
  {
   "cell_type": "code",
   "execution_count": 93,
   "id": "b480b018",
   "metadata": {},
   "outputs": [],
   "source": [
    "train, test = train_test_split(df_final, test_size = 0.3, random_state=123)"
   ]
  },
  {
   "cell_type": "code",
   "execution_count": 94,
   "id": "971293a3",
   "metadata": {},
   "outputs": [
    {
     "data": {
      "text/plain": [
       "(109, 13)"
      ]
     },
     "execution_count": 94,
     "metadata": {},
     "output_type": "execute_result"
    }
   ],
   "source": [
    "train.shape"
   ]
  },
  {
   "cell_type": "code",
   "execution_count": 95,
   "id": "0a7f5319",
   "metadata": {},
   "outputs": [
    {
     "data": {
      "text/plain": [
       "(48, 13)"
      ]
     },
     "execution_count": 95,
     "metadata": {},
     "output_type": "execute_result"
    }
   ],
   "source": [
    "test.shape"
   ]
  },
  {
   "cell_type": "code",
   "execution_count": 96,
   "id": "3b0c9235",
   "metadata": {},
   "outputs": [
    {
     "data": {
      "text/plain": [
       "Index(['Engine_size', 'Horsepower', 'Width', 'Vehicle_type_Passenger',\n",
       "       'Curb_weight', 'Fuel_capacity', 'Power_perf_factor', 'Length',\n",
       "       'Wheelbase', 'four_year_resale_value', 'Fuel_efficiency',\n",
       "       'Price_in_thousands', 'ln_Sales_in_thousands'],\n",
       "      dtype='object')"
      ]
     },
     "execution_count": 96,
     "metadata": {},
     "output_type": "execute_result"
    }
   ],
   "source": [
    "train.columns"
   ]
  },
  {
   "cell_type": "code",
   "execution_count": 97,
   "id": "32946ce2",
   "metadata": {},
   "outputs": [],
   "source": [
    "import statsmodels.formula.api as smf"
   ]
  },
  {
   "cell_type": "code",
   "execution_count": 98,
   "id": "03d0ed3d",
   "metadata": {},
   "outputs": [],
   "source": [
    "eqn = 'ln_Sales_in_thousands~'+'+'.join(train.columns.difference(['Engine_size', 'Horsepower', 'Width', 'Vehicle_type_Passenger',\n",
    "       'Curb_weight', 'Fuel_capacity', 'Power_perf_factor', 'Length',\n",
    "       'Wheelbase', 'four_year_resale_value', 'Fuel_efficiency',\n",
    "       'Price_in_thousands']))"
   ]
  },
  {
   "cell_type": "code",
   "execution_count": 99,
   "id": "1972277a",
   "metadata": {},
   "outputs": [],
   "source": [
    "model_ols = smf.ols(eqn, train).fit()"
   ]
  },
  {
   "cell_type": "code",
   "execution_count": 100,
   "id": "1c8b5e77",
   "metadata": {},
   "outputs": [
    {
     "name": "stdout",
     "output_type": "stream",
     "text": [
      "                              OLS Regression Results                             \n",
      "=================================================================================\n",
      "Dep. Variable:     ln_Sales_in_thousands   R-squared:                       1.000\n",
      "Model:                               OLS   Adj. R-squared:                  1.000\n",
      "Method:                    Least Squares   F-statistic:                 1.736e+32\n",
      "Date:                   Mon, 27 Jun 2022   Prob (F-statistic):               0.00\n",
      "Time:                           11:17:32   Log-Likelihood:                 3608.8\n",
      "No. Observations:                    109   AIC:                            -7214.\n",
      "Df Residuals:                        107   BIC:                            -7208.\n",
      "Df Model:                              1                                         \n",
      "Covariance Type:               nonrobust                                         \n",
      "=========================================================================================\n",
      "                            coef    std err          t      P>|t|      [0.025      0.975]\n",
      "-----------------------------------------------------------------------------------------\n",
      "Intercept             -2.082e-15   2.75e-16     -7.562      0.000   -2.63e-15   -1.54e-15\n",
      "ln_Sales_in_thousands     1.0000   7.59e-17   1.32e+16      0.000       1.000       1.000\n",
      "==============================================================================\n",
      "Omnibus:                        1.016   Durbin-Watson:                   1.910\n",
      "Prob(Omnibus):                  0.602   Jarque-Bera (JB):                1.052\n",
      "Skew:                           0.125   Prob(JB):                        0.591\n",
      "Kurtosis:                       2.588   Cond. No.                         10.9\n",
      "==============================================================================\n",
      "\n",
      "Notes:\n",
      "[1] Standard Errors assume that the covariance matrix of the errors is correctly specified.\n"
     ]
    }
   ],
   "source": [
    "print(model_ols.summary())"
   ]
  },
  {
   "cell_type": "code",
   "execution_count": 101,
   "id": "a7c0e1a1",
   "metadata": {},
   "outputs": [],
   "source": [
    "ln_pred_test = model_ols.predict(test)\n",
    "ln_pred_train = model_ols.predict(train)"
   ]
  },
  {
   "cell_type": "code",
   "execution_count": 102,
   "id": "1581d266",
   "metadata": {},
   "outputs": [],
   "source": [
    "MAPE_train = np.mean(np.abs(train.ln_Sales_in_thousands - ln_pred_train)/train.ln_Sales_in_thousands)"
   ]
  },
  {
   "cell_type": "code",
   "execution_count": 103,
   "id": "382d83c7",
   "metadata": {},
   "outputs": [
    {
     "data": {
      "text/plain": [
       "-7.879711249357802e-16"
      ]
     },
     "execution_count": 103,
     "metadata": {},
     "output_type": "execute_result"
    }
   ],
   "source": [
    "MAPE_train"
   ]
  },
  {
   "cell_type": "code",
   "execution_count": 104,
   "id": "e4e2d62a",
   "metadata": {},
   "outputs": [],
   "source": [
    "MAPE_test = np.mean(np.abs(test.ln_Sales_in_thousands - ln_pred_test)/test.ln_Sales_in_thousands)"
   ]
  },
  {
   "cell_type": "code",
   "execution_count": 105,
   "id": "91fad12e",
   "metadata": {},
   "outputs": [
    {
     "data": {
      "text/plain": [
       "7.605224940634486e-16"
      ]
     },
     "execution_count": 105,
     "metadata": {},
     "output_type": "execute_result"
    }
   ],
   "source": [
    "MAPE_test"
   ]
  },
  {
   "cell_type": "code",
   "execution_count": null,
   "id": "02a06fdf",
   "metadata": {},
   "outputs": [],
   "source": []
  }
 ],
 "metadata": {
  "kernelspec": {
   "display_name": "Python 3 (ipykernel)",
   "language": "python",
   "name": "python3"
  },
  "language_info": {
   "codemirror_mode": {
    "name": "ipython",
    "version": 3
   },
   "file_extension": ".py",
   "mimetype": "text/x-python",
   "name": "python",
   "nbconvert_exporter": "python",
   "pygments_lexer": "ipython3",
   "version": "3.9.12"
  }
 },
 "nbformat": 4,
 "nbformat_minor": 5
}
